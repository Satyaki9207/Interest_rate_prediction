{
 "cells": [
  {
   "cell_type": "code",
   "execution_count": 1,
   "metadata": {},
   "outputs": [],
   "source": [
    "import os\n",
    "os.chdir('C:\\\\Satyaki\\\\hackathons\\\\AV_interest_rate_prediction')"
   ]
  },
  {
   "cell_type": "code",
   "execution_count": 2,
   "metadata": {},
   "outputs": [
    {
     "name": "stderr",
     "output_type": "stream",
     "text": [
      "Using TensorFlow backend.\n"
     ]
    }
   ],
   "source": [
    "import numpy as np\n",
    "import pandas as pd\n",
    "\n",
    "from keras.models import Sequential\n",
    "from keras.layers import Dense,Dropout\n",
    "from keras.utils import np_utils\n",
    "from keras import optimizers\n",
    "from keras.wrappers.scikit_learn import KerasClassifier\n",
    "\n",
    "from sklearn.impute import SimpleImputer\n",
    "from sklearn.preprocessing import StandardScaler,OneHotEncoder,LabelEncoder\n",
    "from sklearn.model_selection import train_test_split,KFold,cross_val_score,GridSearchCV\n",
    "from sklearn.metrics import accuracy_score,f1_score \n",
    "from sklearn.pipeline import Pipeline\n",
    "from sklearn.compose import ColumnTransformer\n",
    "\n",
    "\n",
    "import seaborn as sns\n",
    "import matplotlib.pyplot as plt\n",
    "import warnings\n",
    "warnings.filterwarnings('ignore')"
   ]
  },
  {
   "cell_type": "code",
   "execution_count": 3,
   "metadata": {},
   "outputs": [],
   "source": [
    "from sklearn.linear_model import LogisticRegression"
   ]
  },
  {
   "cell_type": "code",
   "execution_count": 4,
   "metadata": {},
   "outputs": [],
   "source": [
    "df_train=pd.read_csv('train_fNxu4vz.csv',index_col='Loan_ID',thousands=',')\n",
    "df_test=pd.read_csv('test_fjtUOL8.csv',index_col='Loan_ID',thousands=',')"
   ]
  },
  {
   "cell_type": "code",
   "execution_count": 5,
   "metadata": {},
   "outputs": [
    {
     "data": {
      "text/html": [
       "<div>\n",
       "<style scoped>\n",
       "    .dataframe tbody tr th:only-of-type {\n",
       "        vertical-align: middle;\n",
       "    }\n",
       "\n",
       "    .dataframe tbody tr th {\n",
       "        vertical-align: top;\n",
       "    }\n",
       "\n",
       "    .dataframe thead th {\n",
       "        text-align: right;\n",
       "    }\n",
       "</style>\n",
       "<table border=\"1\" class=\"dataframe\">\n",
       "  <thead>\n",
       "    <tr style=\"text-align: right;\">\n",
       "      <th></th>\n",
       "      <th>Loan_Amount_Requested</th>\n",
       "      <th>Length_Employed</th>\n",
       "      <th>Home_Owner</th>\n",
       "      <th>Annual_Income</th>\n",
       "      <th>Income_Verified</th>\n",
       "      <th>Purpose_Of_Loan</th>\n",
       "      <th>Debt_To_Income</th>\n",
       "      <th>Inquiries_Last_6Mo</th>\n",
       "      <th>Months_Since_Deliquency</th>\n",
       "      <th>Number_Open_Accounts</th>\n",
       "      <th>Total_Accounts</th>\n",
       "      <th>Gender</th>\n",
       "      <th>Interest_Rate</th>\n",
       "    </tr>\n",
       "    <tr>\n",
       "      <th>Loan_ID</th>\n",
       "      <th></th>\n",
       "      <th></th>\n",
       "      <th></th>\n",
       "      <th></th>\n",
       "      <th></th>\n",
       "      <th></th>\n",
       "      <th></th>\n",
       "      <th></th>\n",
       "      <th></th>\n",
       "      <th></th>\n",
       "      <th></th>\n",
       "      <th></th>\n",
       "      <th></th>\n",
       "    </tr>\n",
       "  </thead>\n",
       "  <tbody>\n",
       "    <tr>\n",
       "      <th>10000001</th>\n",
       "      <td>7000</td>\n",
       "      <td>&lt; 1 year</td>\n",
       "      <td>Rent</td>\n",
       "      <td>68000.0</td>\n",
       "      <td>not verified</td>\n",
       "      <td>car</td>\n",
       "      <td>18.37</td>\n",
       "      <td>0</td>\n",
       "      <td>NaN</td>\n",
       "      <td>9</td>\n",
       "      <td>14</td>\n",
       "      <td>Female</td>\n",
       "      <td>1</td>\n",
       "    </tr>\n",
       "    <tr>\n",
       "      <th>10000002</th>\n",
       "      <td>30000</td>\n",
       "      <td>4 years</td>\n",
       "      <td>Mortgage</td>\n",
       "      <td>NaN</td>\n",
       "      <td>VERIFIED - income</td>\n",
       "      <td>debt_consolidation</td>\n",
       "      <td>14.93</td>\n",
       "      <td>0</td>\n",
       "      <td>17.0</td>\n",
       "      <td>12</td>\n",
       "      <td>24</td>\n",
       "      <td>Female</td>\n",
       "      <td>3</td>\n",
       "    </tr>\n",
       "    <tr>\n",
       "      <th>10000003</th>\n",
       "      <td>24725</td>\n",
       "      <td>7 years</td>\n",
       "      <td>Mortgage</td>\n",
       "      <td>75566.4</td>\n",
       "      <td>VERIFIED - income source</td>\n",
       "      <td>debt_consolidation</td>\n",
       "      <td>15.88</td>\n",
       "      <td>0</td>\n",
       "      <td>NaN</td>\n",
       "      <td>12</td>\n",
       "      <td>16</td>\n",
       "      <td>Male</td>\n",
       "      <td>3</td>\n",
       "    </tr>\n",
       "    <tr>\n",
       "      <th>10000004</th>\n",
       "      <td>16000</td>\n",
       "      <td>&lt; 1 year</td>\n",
       "      <td>NaN</td>\n",
       "      <td>56160.0</td>\n",
       "      <td>VERIFIED - income source</td>\n",
       "      <td>debt_consolidation</td>\n",
       "      <td>14.34</td>\n",
       "      <td>3</td>\n",
       "      <td>NaN</td>\n",
       "      <td>16</td>\n",
       "      <td>22</td>\n",
       "      <td>Male</td>\n",
       "      <td>3</td>\n",
       "    </tr>\n",
       "    <tr>\n",
       "      <th>10000005</th>\n",
       "      <td>17000</td>\n",
       "      <td>8 years</td>\n",
       "      <td>Own</td>\n",
       "      <td>96000.0</td>\n",
       "      <td>VERIFIED - income source</td>\n",
       "      <td>debt_consolidation</td>\n",
       "      <td>22.17</td>\n",
       "      <td>1</td>\n",
       "      <td>NaN</td>\n",
       "      <td>19</td>\n",
       "      <td>30</td>\n",
       "      <td>Female</td>\n",
       "      <td>1</td>\n",
       "    </tr>\n",
       "  </tbody>\n",
       "</table>\n",
       "</div>"
      ],
      "text/plain": [
       "          Loan_Amount_Requested Length_Employed Home_Owner  Annual_Income  \\\n",
       "Loan_ID                                                                     \n",
       "10000001                   7000        < 1 year       Rent        68000.0   \n",
       "10000002                  30000         4 years   Mortgage            NaN   \n",
       "10000003                  24725         7 years   Mortgage        75566.4   \n",
       "10000004                  16000        < 1 year        NaN        56160.0   \n",
       "10000005                  17000         8 years        Own        96000.0   \n",
       "\n",
       "                   Income_Verified     Purpose_Of_Loan  Debt_To_Income  \\\n",
       "Loan_ID                                                                  \n",
       "10000001              not verified                 car           18.37   \n",
       "10000002         VERIFIED - income  debt_consolidation           14.93   \n",
       "10000003  VERIFIED - income source  debt_consolidation           15.88   \n",
       "10000004  VERIFIED - income source  debt_consolidation           14.34   \n",
       "10000005  VERIFIED - income source  debt_consolidation           22.17   \n",
       "\n",
       "          Inquiries_Last_6Mo  Months_Since_Deliquency  Number_Open_Accounts  \\\n",
       "Loan_ID                                                                       \n",
       "10000001                   0                      NaN                     9   \n",
       "10000002                   0                     17.0                    12   \n",
       "10000003                   0                      NaN                    12   \n",
       "10000004                   3                      NaN                    16   \n",
       "10000005                   1                      NaN                    19   \n",
       "\n",
       "          Total_Accounts  Gender  Interest_Rate  \n",
       "Loan_ID                                          \n",
       "10000001              14  Female              1  \n",
       "10000002              24  Female              3  \n",
       "10000003              16    Male              3  \n",
       "10000004              22    Male              3  \n",
       "10000005              30  Female              1  "
      ]
     },
     "execution_count": 5,
     "metadata": {},
     "output_type": "execute_result"
    }
   ],
   "source": [
    "df_train.head()"
   ]
  },
  {
   "cell_type": "code",
   "execution_count": 6,
   "metadata": {},
   "outputs": [
    {
     "data": {
      "text/html": [
       "<div>\n",
       "<style scoped>\n",
       "    .dataframe tbody tr th:only-of-type {\n",
       "        vertical-align: middle;\n",
       "    }\n",
       "\n",
       "    .dataframe tbody tr th {\n",
       "        vertical-align: top;\n",
       "    }\n",
       "\n",
       "    .dataframe thead th {\n",
       "        text-align: right;\n",
       "    }\n",
       "</style>\n",
       "<table border=\"1\" class=\"dataframe\">\n",
       "  <thead>\n",
       "    <tr style=\"text-align: right;\">\n",
       "      <th></th>\n",
       "      <th>Loan_Amount_Requested</th>\n",
       "      <th>Length_Employed</th>\n",
       "      <th>Home_Owner</th>\n",
       "      <th>Annual_Income</th>\n",
       "      <th>Income_Verified</th>\n",
       "      <th>Purpose_Of_Loan</th>\n",
       "      <th>Debt_To_Income</th>\n",
       "      <th>Inquiries_Last_6Mo</th>\n",
       "      <th>Months_Since_Deliquency</th>\n",
       "      <th>Number_Open_Accounts</th>\n",
       "      <th>Total_Accounts</th>\n",
       "      <th>Gender</th>\n",
       "    </tr>\n",
       "    <tr>\n",
       "      <th>Loan_ID</th>\n",
       "      <th></th>\n",
       "      <th></th>\n",
       "      <th></th>\n",
       "      <th></th>\n",
       "      <th></th>\n",
       "      <th></th>\n",
       "      <th></th>\n",
       "      <th></th>\n",
       "      <th></th>\n",
       "      <th></th>\n",
       "      <th></th>\n",
       "      <th></th>\n",
       "    </tr>\n",
       "  </thead>\n",
       "  <tbody>\n",
       "    <tr>\n",
       "      <th>10164310</th>\n",
       "      <td>27500</td>\n",
       "      <td>10+ years</td>\n",
       "      <td>Mortgage</td>\n",
       "      <td>129000.0</td>\n",
       "      <td>VERIFIED - income</td>\n",
       "      <td>debt_consolidation</td>\n",
       "      <td>12.87</td>\n",
       "      <td>0</td>\n",
       "      <td>68.0</td>\n",
       "      <td>10</td>\n",
       "      <td>37</td>\n",
       "      <td>Male</td>\n",
       "    </tr>\n",
       "    <tr>\n",
       "      <th>10164311</th>\n",
       "      <td>26000</td>\n",
       "      <td>10+ years</td>\n",
       "      <td>NaN</td>\n",
       "      <td>110000.0</td>\n",
       "      <td>not verified</td>\n",
       "      <td>credit_card</td>\n",
       "      <td>11.37</td>\n",
       "      <td>0</td>\n",
       "      <td>NaN</td>\n",
       "      <td>6</td>\n",
       "      <td>23</td>\n",
       "      <td>Male</td>\n",
       "    </tr>\n",
       "    <tr>\n",
       "      <th>10164312</th>\n",
       "      <td>6075</td>\n",
       "      <td>&lt; 1 year</td>\n",
       "      <td>Rent</td>\n",
       "      <td>75000.0</td>\n",
       "      <td>VERIFIED - income</td>\n",
       "      <td>debt_consolidation</td>\n",
       "      <td>6.83</td>\n",
       "      <td>2</td>\n",
       "      <td>NaN</td>\n",
       "      <td>5</td>\n",
       "      <td>20</td>\n",
       "      <td>Male</td>\n",
       "    </tr>\n",
       "    <tr>\n",
       "      <th>10164313</th>\n",
       "      <td>12000</td>\n",
       "      <td>10+ years</td>\n",
       "      <td>Mortgage</td>\n",
       "      <td>73000.0</td>\n",
       "      <td>VERIFIED - income source</td>\n",
       "      <td>debt_consolidation</td>\n",
       "      <td>7.76</td>\n",
       "      <td>0</td>\n",
       "      <td>NaN</td>\n",
       "      <td>6</td>\n",
       "      <td>8</td>\n",
       "      <td>Male</td>\n",
       "    </tr>\n",
       "    <tr>\n",
       "      <th>10164314</th>\n",
       "      <td>35000</td>\n",
       "      <td>&lt; 1 year</td>\n",
       "      <td>Mortgage</td>\n",
       "      <td>156000.0</td>\n",
       "      <td>not verified</td>\n",
       "      <td>debt_consolidation</td>\n",
       "      <td>9.62</td>\n",
       "      <td>0</td>\n",
       "      <td>26.0</td>\n",
       "      <td>9</td>\n",
       "      <td>21</td>\n",
       "      <td>Male</td>\n",
       "    </tr>\n",
       "  </tbody>\n",
       "</table>\n",
       "</div>"
      ],
      "text/plain": [
       "          Loan_Amount_Requested Length_Employed Home_Owner  Annual_Income  \\\n",
       "Loan_ID                                                                     \n",
       "10164310                  27500       10+ years   Mortgage       129000.0   \n",
       "10164311                  26000       10+ years        NaN       110000.0   \n",
       "10164312                   6075        < 1 year       Rent        75000.0   \n",
       "10164313                  12000       10+ years   Mortgage        73000.0   \n",
       "10164314                  35000        < 1 year   Mortgage       156000.0   \n",
       "\n",
       "                   Income_Verified     Purpose_Of_Loan  Debt_To_Income  \\\n",
       "Loan_ID                                                                  \n",
       "10164310         VERIFIED - income  debt_consolidation           12.87   \n",
       "10164311              not verified         credit_card           11.37   \n",
       "10164312         VERIFIED - income  debt_consolidation            6.83   \n",
       "10164313  VERIFIED - income source  debt_consolidation            7.76   \n",
       "10164314              not verified  debt_consolidation            9.62   \n",
       "\n",
       "          Inquiries_Last_6Mo  Months_Since_Deliquency  Number_Open_Accounts  \\\n",
       "Loan_ID                                                                       \n",
       "10164310                   0                     68.0                    10   \n",
       "10164311                   0                      NaN                     6   \n",
       "10164312                   2                      NaN                     5   \n",
       "10164313                   0                      NaN                     6   \n",
       "10164314                   0                     26.0                     9   \n",
       "\n",
       "          Total_Accounts Gender  \n",
       "Loan_ID                          \n",
       "10164310              37   Male  \n",
       "10164311              23   Male  \n",
       "10164312              20   Male  \n",
       "10164313               8   Male  \n",
       "10164314              21   Male  "
      ]
     },
     "execution_count": 6,
     "metadata": {},
     "output_type": "execute_result"
    }
   ],
   "source": [
    "df_test.head()"
   ]
  },
  {
   "cell_type": "code",
   "execution_count": 7,
   "metadata": {},
   "outputs": [
    {
     "name": "stdout",
     "output_type": "stream",
     "text": [
      "train_shape: (164309, 13)\n",
      "test_shape: (109541, 12)\n"
     ]
    }
   ],
   "source": [
    "print('train_shape:',df_train.shape)\n",
    "print('test_shape:',df_test.shape)"
   ]
  },
  {
   "cell_type": "code",
   "execution_count": 8,
   "metadata": {},
   "outputs": [
    {
     "data": {
      "text/plain": [
       "Loan_Amount_Requested        int64\n",
       "Length_Employed             object\n",
       "Home_Owner                  object\n",
       "Annual_Income              float64\n",
       "Income_Verified             object\n",
       "Purpose_Of_Loan             object\n",
       "Debt_To_Income             float64\n",
       "Inquiries_Last_6Mo           int64\n",
       "Months_Since_Deliquency    float64\n",
       "Number_Open_Accounts         int64\n",
       "Total_Accounts               int64\n",
       "Gender                      object\n",
       "Interest_Rate                int64\n",
       "dtype: object"
      ]
     },
     "execution_count": 8,
     "metadata": {},
     "output_type": "execute_result"
    }
   ],
   "source": [
    "df_train.dtypes"
   ]
  },
  {
   "cell_type": "markdown",
   "metadata": {},
   "source": [
    "### Cleaning and preprocessing"
   ]
  },
  {
   "cell_type": "code",
   "execution_count": 9,
   "metadata": {},
   "outputs": [
    {
     "data": {
      "text/plain": [
       "Loan_Amount_Requested      0.000000\n",
       "Length_Employed            0.044861\n",
       "Home_Owner                 0.154276\n",
       "Annual_Income              0.152773\n",
       "Income_Verified            0.000000\n",
       "Purpose_Of_Loan            0.000000\n",
       "Debt_To_Income             0.000000\n",
       "Inquiries_Last_6Mo         0.000000\n",
       "Months_Since_Deliquency    0.537883\n",
       "Number_Open_Accounts       0.000000\n",
       "Total_Accounts             0.000000\n",
       "Gender                     0.000000\n",
       "Interest_Rate              0.000000\n",
       "dtype: float64"
      ]
     },
     "execution_count": 9,
     "metadata": {},
     "output_type": "execute_result"
    }
   ],
   "source": [
    "df_train.isnull().sum()/df_train.shape[0]"
   ]
  },
  {
   "cell_type": "code",
   "execution_count": 10,
   "metadata": {},
   "outputs": [],
   "source": [
    "df_train['Length_Employed'].replace({'< 1 year':'0 years','10+ years':'11 years'},inplace=True)\n",
    "df_test['Length_Employed'].replace({'< 1 year':'0 years','10+ years':'11 years'},inplace=True)"
   ]
  },
  {
   "cell_type": "code",
   "execution_count": 11,
   "metadata": {},
   "outputs": [],
   "source": [
    "a=df_train['Length_Employed'].mode()\n",
    "b=df_test['Length_Employed'].mode()\n",
    "df_train['Length_Employed']=df_train['Length_Employed'].fillna(a.values[0]).astype('string').map(lambda x: x.rstrip('years')).astype('float')\n",
    "df_test['Length_Employed']=df_test['Length_Employed'].fillna(b.values[0]).astype('string').map(lambda x: x.rstrip('years')).astype('float')"
   ]
  },
  {
   "cell_type": "code",
   "execution_count": 12,
   "metadata": {},
   "outputs": [],
   "source": [
    "# since 47% values here are missing, it can be assumed that these borrowers were never late for their payments.\n",
    "# So na values can be replaced with -1\n",
    "df_train['Months_Since_Deliquency']=df_train['Months_Since_Deliquency'].fillna(-1)\n",
    "df_test['Months_Since_Deliquency']=df_test['Months_Since_Deliquency'].fillna(-1)"
   ]
  },
  {
   "cell_type": "markdown",
   "metadata": {},
   "source": [
    "### Creating new Features"
   ]
  },
  {
   "cell_type": "code",
   "execution_count": 13,
   "metadata": {},
   "outputs": [],
   "source": [
    "# Repayment Period\n",
    "eps=0.001\n",
    "df_train['Repayment_period']=df_train['Loan_Amount_Requested']/(df_train['Annual_Income']+eps)\n",
    "df_test['Repayment_period']=df_test['Loan_Amount_Requested']/(df_test['Annual_Income']+eps)"
   ]
  },
  {
   "cell_type": "code",
   "execution_count": 14,
   "metadata": {},
   "outputs": [],
   "source": [
    "# number of redundant accounts\n",
    "df_train['Number_of_redundant_accounts']=df_train['Total_Accounts']-df_train['Number_Open_Accounts']\n",
    "df_test['Number_of_redundant_accounts']=df_test['Total_Accounts']-df_test['Number_Open_Accounts']"
   ]
  },
  {
   "cell_type": "markdown",
   "metadata": {},
   "source": [
    "#### organizing data into numeric and categorical attributes"
   ]
  },
  {
   "cell_type": "code",
   "execution_count": 15,
   "metadata": {},
   "outputs": [],
   "source": [
    "catcols=['Gender', 'Home_Owner', 'Income_Verified', 'Purpose_Of_Loan','Inquiries_Last_6Mo','Length_Employed']\n",
    "numcols=df_train.columns.difference(catcols).drop('Interest_Rate')  \n",
    "df_train[catcols]=df_train[catcols].astype('category')\n",
    "df_test[catcols]=df_test[catcols].astype('category')"
   ]
  },
  {
   "cell_type": "code",
   "execution_count": 16,
   "metadata": {},
   "outputs": [
    {
     "data": {
      "text/plain": [
       "<matplotlib.axes._subplots.AxesSubplot at 0x25ff75db548>"
      ]
     },
     "execution_count": 16,
     "metadata": {},
     "output_type": "execute_result"
    },
    {
     "data": {
      "image/png": "[encoded data removed]",
      "text/plain": [
       "<Figure size 432x288 with 2 Axes>"
      ]
     },
     "metadata": {
      "needs_background": "light"
     },
     "output_type": "display_data"
    }
   ],
   "source": [
    "corr=df_train[numcols].corr()\n",
    "sns.heatmap(corr,cmap='YlGnBu',annot=True)"
   ]
  },
  {
   "cell_type": "code",
   "execution_count": 17,
   "metadata": {},
   "outputs": [
    {
     "name": "stdout",
     "output_type": "stream",
     "text": [
      "(131447, 14) (131447,)\n",
      "(32862, 14) (32862,)\n"
     ]
    }
   ],
   "source": [
    "X,y=df_train.loc[:,df_train.columns!='Interest_Rate'],df_train['Interest_Rate']\n",
    "X_train,X_test,y_train,y_test=train_test_split(X,y,test_size=0.2,random_state=23)\n",
    "print(X_train.shape,y_train.shape)\n",
    "print(X_test.shape,y_test.shape)"
   ]
  },
  {
   "cell_type": "markdown",
   "metadata": {},
   "source": [
    "## Model Building"
   ]
  },
  {
   "cell_type": "code",
   "execution_count": 18,
   "metadata": {},
   "outputs": [
    {
     "name": "stdout",
     "output_type": "stream",
     "text": [
      "Wall time: 1min 18s\n"
     ]
    },
    {
     "data": {
      "text/plain": [
       "ColumnTransformer(transformers=[('num',\n",
       "                                 Pipeline(steps=[('num_imputer',\n",
       "                                                  SimpleImputer(strategy='median')),\n",
       "                                                 ('scaler', StandardScaler())]),\n",
       "                                 Index(['Annual_Income', 'Debt_To_Income', 'Loan_Amount_Requested',\n",
       "       'Months_Since_Deliquency', 'Number_Open_Accounts',\n",
       "       'Number_of_redundant_accounts', 'Repayment_period', 'Total_Accounts'],\n",
       "      dtype='object')),\n",
       "                                ('cat',\n",
       "                                 Pipeline(steps=[('cat_imputer',\n",
       "                                                  SimpleImputer(strategy='most_frequent')),\n",
       "                                                 ('onehot',\n",
       "                                                  OneHotEncoder(handle_unknown='ignore'))]),\n",
       "                                 ['Gender', 'Home_Owner', 'Income_Verified',\n",
       "                                  'Purpose_Of_Loan', 'Inquiries_Last_6Mo',\n",
       "                                  'Length_Employed'])])"
      ]
     },
     "execution_count": 18,
     "metadata": {},
     "output_type": "execute_result"
    }
   ],
   "source": [
    "%%time\n",
    "num_transformer=Pipeline(steps=[\n",
    "    ('num_imputer',SimpleImputer(strategy='median')),\n",
    "    ('scaler',StandardScaler())\n",
    "])\n",
    "\n",
    "cat_transformer=Pipeline(steps=[\n",
    "    ('cat_imputer',SimpleImputer(strategy='most_frequent')),\n",
    "    ('onehot',OneHotEncoder(handle_unknown='ignore'))\n",
    "])\n",
    "\n",
    "preprocessor=ColumnTransformer(transformers=[\n",
    "    ('num',num_transformer,numcols),\n",
    "    ('cat',cat_transformer,catcols)\n",
    "])\n",
    "\n",
    "preprocessor.fit(X_train)"
   ]
  },
  {
   "cell_type": "code",
   "execution_count": 19,
   "metadata": {},
   "outputs": [],
   "source": [
    "X_train1=preprocessor.transform(X_train)\n",
    "X_test1=preprocessor.transform(X_test)\n",
    "df_test1=preprocessor.transform(df_test)"
   ]
  },
  {
   "cell_type": "code",
   "execution_count": 20,
   "metadata": {},
   "outputs": [],
   "source": [
    "# encoding target variable\n",
    "encoder=LabelEncoder()\n",
    "encoder.fit(y_train)\n",
    "enc_y=encoder.transform(y_train)\n",
    "y_train1 = np_utils.to_categorical(enc_y)"
   ]
  },
  {
   "cell_type": "code",
   "execution_count": 21,
   "metadata": {},
   "outputs": [
    {
     "name": "stdout",
     "output_type": "stream",
     "text": [
      "(131447, 52)\n",
      "(32862, 52)\n",
      "(109541, 52)\n"
     ]
    }
   ],
   "source": [
    "print(X_train1.shape)\n",
    "print(X_test1.shape)\n",
    "print(df_test1.shape)"
   ]
  },
  {
   "cell_type": "code",
   "execution_count": 22,
   "metadata": {},
   "outputs": [],
   "source": [
    "#defining function for model evaluation\n",
    "def model_eval(model,X_train=X_train1,y_train=y_train,X_test=X_test1,y_test=y_test):\n",
    "    pred_train=model.predict(X_train)\n",
    "    pred_test=model.predict(X_test)\n",
    "    print('\\n')\n",
    "    print('Train accuracy:',accuracy_score(y_train,pred_train))\n",
    "    print('Train F1 score:',f1_score(y_train,pred_train,average='weighted'))\n",
    "    print('--'*30)\n",
    "    print('Test accuracy:',accuracy_score(y_test,pred_test))\n",
    "    print('Test F1 score:',f1_score(y_test,pred_test,average='weighted'))"
   ]
  },
  {
   "cell_type": "markdown",
   "metadata": {},
   "source": [
    "## MLP with no hidden layer"
   ]
  },
  {
   "cell_type": "code",
   "execution_count": 28,
   "metadata": {},
   "outputs": [],
   "source": [
    "model1=Sequential()\n",
    "model1.add(Dense(3,input_dim=52,activation='softmax',kernel_initializer='normal'))"
   ]
  },
  {
   "cell_type": "code",
   "execution_count": 29,
   "metadata": {},
   "outputs": [
    {
     "name": "stdout",
     "output_type": "stream",
     "text": [
      "Model: \"sequential_2\"\n",
      "_________________________________________________________________\n",
      "Layer (type)                 Output Shape              Param #   \n",
      "=================================================================\n",
      "dense_2 (Dense)              (None, 3)                 159       \n",
      "=================================================================\n",
      "Total params: 159\n",
      "Trainable params: 159\n",
      "Non-trainable params: 0\n",
      "_________________________________________________________________\n"
     ]
    }
   ],
   "source": [
    "model1.summary()"
   ]
  },
  {
   "cell_type": "code",
   "execution_count": 30,
   "metadata": {},
   "outputs": [],
   "source": [
    "model1.compile(loss='categorical_crossentropy',optimizer='adam',metrics=['accuracy'])"
   ]
  },
  {
   "cell_type": "code",
   "execution_count": 31,
   "metadata": {},
   "outputs": [
    {
     "name": "stdout",
     "output_type": "stream",
     "text": [
      "Epoch 1/20\n",
      "131447/131447 [==============================] - 6s 48us/step - loss: 0.9711 - accuracy: 0.5115\n",
      "Epoch 2/20\n",
      "131447/131447 [==============================] - 6s 42us/step - loss: 0.9581 - accuracy: 0.5201\n",
      "Epoch 3/20\n",
      "131447/131447 [==============================] - 6s 43us/step - loss: 0.9577 - accuracy: 0.5204\n",
      "Epoch 4/20\n",
      "131447/131447 [==============================] - 6s 43us/step - loss: 0.9576 - accuracy: 0.5205\n",
      "Epoch 5/20\n",
      "131447/131447 [==============================] - 6s 43us/step - loss: 0.9575 - accuracy: 0.5210\n",
      "Epoch 6/20\n",
      "131447/131447 [==============================] - 6s 45us/step - loss: 0.9574 - accuracy: 0.5208\n",
      "Epoch 7/20\n",
      "131447/131447 [==============================] - 6s 43us/step - loss: 0.9575 - accuracy: 0.5209\n",
      "Epoch 8/20\n",
      "131447/131447 [==============================] - 6s 43us/step - loss: 0.9575 - accuracy: 0.5209\n",
      "Epoch 9/20\n",
      "131447/131447 [==============================] - 6s 44us/step - loss: 0.9575 - accuracy: 0.5202\n",
      "Epoch 10/20\n",
      "131447/131447 [==============================] - 6s 43us/step - loss: 0.9575 - accuracy: 0.5205\n",
      "Epoch 11/20\n",
      "131447/131447 [==============================] - 6s 43us/step - loss: 0.9574 - accuracy: 0.5207\n",
      "Epoch 12/20\n",
      "131447/131447 [==============================] - 6s 43us/step - loss: 0.9574 - accuracy: 0.5205\n",
      "Epoch 13/20\n",
      "131447/131447 [==============================] - 6s 43us/step - loss: 0.9575 - accuracy: 0.5204\n",
      "Epoch 14/20\n",
      "131447/131447 [==============================] - 6s 43us/step - loss: 0.9574 - accuracy: 0.5208\n",
      "Epoch 15/20\n",
      "131447/131447 [==============================] - 6s 44us/step - loss: 0.9575 - accuracy: 0.5207\n",
      "Epoch 16/20\n",
      "131447/131447 [==============================] - 6s 43us/step - loss: 0.9575 - accuracy: 0.5207\n",
      "Epoch 17/20\n",
      "131447/131447 [==============================] - 6s 43us/step - loss: 0.9575 - accuracy: 0.5213\n",
      "Epoch 18/20\n",
      "131447/131447 [==============================] - 6s 43us/step - loss: 0.9574 - accuracy: 0.5203\n",
      "Epoch 19/20\n",
      "131447/131447 [==============================] - 6s 43us/step - loss: 0.9574 - accuracy: 0.5209\n",
      "Epoch 20/20\n",
      "131447/131447 [==============================] - 6s 45us/step - loss: 0.9574 - accuracy: 0.5196\n"
     ]
    },
    {
     "data": {
      "text/plain": [
       "<keras.callbacks.callbacks.History at 0x25f81ee7d88>"
      ]
     },
     "execution_count": 31,
     "metadata": {},
     "output_type": "execute_result"
    }
   ],
   "source": [
    "model1.fit(X_train1,y_train1,epochs=20,batch_size=64)"
   ]
  },
  {
   "cell_type": "markdown",
   "metadata": {},
   "source": [
    "## MLP with 3 hidden layers"
   ]
  },
  {
   "cell_type": "code",
   "execution_count": 33,
   "metadata": {},
   "outputs": [],
   "source": [
    "def baseline_model(lr=0.002):\n",
    "    adam=optimizers.adam(lr=lr)\n",
    "    model=Sequential()\n",
    "    model.add(Dense(40,input_dim=52,activation='relu',kernel_initializer='normal'))\n",
    "    model.add(Dense(20,activation='relu',kernel_initializer='normal'))\n",
    "    model.add(Dense(10,activation='relu',kernel_initializer='normal'))\n",
    "    model.add(Dense(3,activation='softmax',kernel_initializer='normal'))\n",
    "    model.compile(loss='categorical_crossentropy',optimizer=adam,metrics=['accuracy'])\n",
    "    return model"
   ]
  },
  {
   "cell_type": "code",
   "execution_count": 34,
   "metadata": {},
   "outputs": [],
   "source": [
    "estimator=KerasClassifier(build_fn=baseline_model,epochs=10,batch_size=64,verbose=1)"
   ]
  },
  {
   "cell_type": "code",
   "execution_count": 35,
   "metadata": {},
   "outputs": [
    {
     "name": "stdout",
     "output_type": "stream",
     "text": [
      "Epoch 1/10\n",
      "131447/131447 [==============================] - 8s 59us/step - loss: 0.9631 - accuracy: 0.5121\n",
      "Epoch 2/10\n",
      "131447/131447 [==============================] - 8s 59us/step - loss: 0.9494 - accuracy: 0.5243\n",
      "Epoch 3/10\n",
      "131447/131447 [==============================] - 8s 58us/step - loss: 0.9427 - accuracy: 0.5274\n",
      "Epoch 4/10\n",
      "131447/131447 [==============================] - 8s 59us/step - loss: 0.9367 - accuracy: 0.5314\n",
      "Epoch 5/10\n",
      "131447/131447 [==============================] - 8s 59us/step - loss: 0.9345 - accuracy: 0.5330\n",
      "Epoch 6/10\n",
      "131447/131447 [==============================] - 8s 59us/step - loss: 0.9327 - accuracy: 0.5332\n",
      "Epoch 7/10\n",
      "131447/131447 [==============================] - 8s 58us/step - loss: 0.9314 - accuracy: 0.5342\n",
      "Epoch 8/10\n",
      "131447/131447 [==============================] - 8s 59us/step - loss: 0.9301 - accuracy: 0.5351\n",
      "Epoch 9/10\n",
      "131447/131447 [==============================] - 8s 59us/step - loss: 0.9290 - accuracy: 0.5351\n",
      "Epoch 10/10\n",
      "131447/131447 [==============================] - 8s 59us/step - loss: 0.9277 - accuracy: 0.5372\n"
     ]
    },
    {
     "data": {
      "text/plain": [
       "<keras.callbacks.callbacks.History at 0x2608e4c0e48>"
      ]
     },
     "execution_count": 35,
     "metadata": {},
     "output_type": "execute_result"
    }
   ],
   "source": [
    "estimator.fit(X_train1,y_train)"
   ]
  },
  {
   "cell_type": "code",
   "execution_count": 36,
   "metadata": {},
   "outputs": [
    {
     "name": "stdout",
     "output_type": "stream",
     "text": [
      "131447/131447 [==============================] - 3s 20us/step\n",
      "32862/32862 [==============================] - 1s 17us/step\n",
      "\n",
      "\n",
      "Train accuracy: 0.5385516596042511\n",
      "Train F1 score: 0.5326282632548366\n",
      "------------------------------------------------------------\n",
      "Test accuracy: 0.5277828494918142\n",
      "Test F1 score: 0.5219336786019915\n"
     ]
    }
   ],
   "source": [
    "model_eval(estimator)"
   ]
  },
  {
   "cell_type": "code",
   "execution_count": 37,
   "metadata": {},
   "outputs": [],
   "source": [
    "### finding optimal learning Rate\n",
    "learning_rate=np.logspace(-5,-2,10)\n",
    "hist_loss=[]\n",
    "for k in learning_rate:\n",
    "    new_model=baseline_model(lr=k)\n",
    "    model_history=new_model.fit(X_train1,y_train1,epochs=10,batch_size=64,verbose=0)\n",
    "    hist_loss.append(model_history.history['loss'][9])"
   ]
  },
  {
   "cell_type": "code",
   "execution_count": 40,
   "metadata": {},
   "outputs": [
    {
     "data": {
      "text/plain": [
       "Text(0, 0.5, 'Loss value')"
      ]
     },
     "execution_count": 40,
     "metadata": {},
     "output_type": "execute_result"
    },
    {
     "data": {
      "image/png": "[encoded data removed]",
      "text/plain": [
       "<Figure size 432x288 with 1 Axes>"
      ]
     },
     "metadata": {
      "needs_background": "light"
     },
     "output_type": "display_data"
    }
   ],
   "source": [
    "plt.plot(learning_rate,hist_loss)\n",
    "plt.xlabel('learning rate')\n",
    "plt.ylabel('Loss value')"
   ]
  },
  {
   "cell_type": "markdown",
   "metadata": {},
   "source": [
    "### Logistic regression"
   ]
  },
  {
   "cell_type": "code",
   "execution_count": 41,
   "metadata": {},
   "outputs": [
    {
     "name": "stdout",
     "output_type": "stream",
     "text": [
      "\n",
      "\n",
      "Train accuracy: 0.5216170776054228\n",
      "Train F1 score: 0.5001307141312626\n",
      "------------------------------------------------------------\n",
      "Test accuracy: 0.5147891181303633\n",
      "Test F1 score: 0.49380442042365785\n"
     ]
    }
   ],
   "source": [
    "lr=LogisticRegression(n_jobs=3,random_state=23)\n",
    "lr.fit(X_train1,y_train)\n",
    "model_eval(lr)"
   ]
  },
  {
   "cell_type": "markdown",
   "metadata": {},
   "source": [
    "### exporting solution"
   ]
  },
  {
   "cell_type": "code",
   "execution_count": null,
   "metadata": {},
   "outputs": [],
   "source": [
    "test_index=df_test.index\n",
    "pred=estimator.predict(df_test2)\n",
    "result=pd.DataFrame({'Loan_ID':test_index,'Interest_Rate':pred}).set_index('Loan_ID')\n",
    "result.to_csv('result.csv',index=True,header=True)"
   ]
  }
 ],
 "metadata": {
  "kernelspec": {
   "display_name": "TensorFlow-GPU-2.1.0",
   "language": "python",
   "name": "tf-gpu"
  },
  "language_info": {
   "codemirror_mode": {
    "name": "ipython",
    "version": 3
   },
   "file_extension": ".py",
   "mimetype": "text/x-python",
   "name": "python",
   "nbconvert_exporter": "python",
   "pygments_lexer": "ipython3",
   "version": "3.7.7"
  }
 },
 "nbformat": 4,
 "nbformat_minor": 4
}
